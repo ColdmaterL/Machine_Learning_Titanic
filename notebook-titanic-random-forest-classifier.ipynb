{
 "cells": [
  {
   "cell_type": "markdown",
   "id": "6d89d0e2",
   "metadata": {
    "papermill": {
     "duration": 0.008071,
     "end_time": "2023-01-24T01:13:17.006002",
     "exception": false,
     "start_time": "2023-01-24T01:13:16.997931",
     "status": "completed"
    },
    "tags": []
   },
   "source": [
    "# Loading the data"
   ]
  },
  {
   "cell_type": "code",
   "execution_count": 1,
   "id": "fa66af2c",
   "metadata": {
    "_cell_guid": "b1076dfc-b9ad-4769-8c92-a6c4dae69d19",
    "_uuid": "8f2839f25d086af736a60e9eeb907d3b93b6e0e5",
    "execution": {
     "iopub.execute_input": "2023-01-24T01:13:17.019759Z",
     "iopub.status.busy": "2023-01-24T01:13:17.018819Z",
     "iopub.status.idle": "2023-01-24T01:13:17.059230Z",
     "shell.execute_reply": "2023-01-24T01:13:17.058074Z"
    },
    "papermill": {
     "duration": 0.055797,
     "end_time": "2023-01-24T01:13:17.068423",
     "exception": false,
     "start_time": "2023-01-24T01:13:17.012626",
     "status": "completed"
    },
    "tags": []
   },
   "outputs": [],
   "source": [
    "import pandas as pd\n",
    "\n",
    "titanic =  pd.read_csv('/kaggle/input/titanic/train.csv')\n",
    "titanic_test = pd.read_csv('/kaggle/input/titanic/test.csv')"
   ]
  },
  {
   "cell_type": "code",
   "execution_count": 2,
   "id": "5dd5098b",
   "metadata": {
    "execution": {
     "iopub.execute_input": "2023-01-24T01:13:17.084226Z",
     "iopub.status.busy": "2023-01-24T01:13:17.083157Z",
     "iopub.status.idle": "2023-01-24T01:13:17.110579Z",
     "shell.execute_reply": "2023-01-24T01:13:17.109388Z"
    },
    "papermill": {
     "duration": 0.039103,
     "end_time": "2023-01-24T01:13:17.114497",
     "exception": false,
     "start_time": "2023-01-24T01:13:17.075394",
     "status": "completed"
    },
    "tags": []
   },
   "outputs": [
    {
     "data": {
      "text/html": [
       "<div>\n",
       "<style scoped>\n",
       "    .dataframe tbody tr th:only-of-type {\n",
       "        vertical-align: middle;\n",
       "    }\n",
       "\n",
       "    .dataframe tbody tr th {\n",
       "        vertical-align: top;\n",
       "    }\n",
       "\n",
       "    .dataframe thead th {\n",
       "        text-align: right;\n",
       "    }\n",
       "</style>\n",
       "<table border=\"1\" class=\"dataframe\">\n",
       "  <thead>\n",
       "    <tr style=\"text-align: right;\">\n",
       "      <th></th>\n",
       "      <th>PassengerId</th>\n",
       "      <th>Survived</th>\n",
       "      <th>Pclass</th>\n",
       "      <th>Name</th>\n",
       "      <th>Sex</th>\n",
       "      <th>Age</th>\n",
       "      <th>SibSp</th>\n",
       "      <th>Parch</th>\n",
       "      <th>Ticket</th>\n",
       "      <th>Fare</th>\n",
       "      <th>Cabin</th>\n",
       "      <th>Embarked</th>\n",
       "    </tr>\n",
       "  </thead>\n",
       "  <tbody>\n",
       "    <tr>\n",
       "      <th>0</th>\n",
       "      <td>1</td>\n",
       "      <td>0</td>\n",
       "      <td>3</td>\n",
       "      <td>Braund, Mr. Owen Harris</td>\n",
       "      <td>male</td>\n",
       "      <td>22.0</td>\n",
       "      <td>1</td>\n",
       "      <td>0</td>\n",
       "      <td>A/5 21171</td>\n",
       "      <td>7.2500</td>\n",
       "      <td>NaN</td>\n",
       "      <td>S</td>\n",
       "    </tr>\n",
       "    <tr>\n",
       "      <th>1</th>\n",
       "      <td>2</td>\n",
       "      <td>1</td>\n",
       "      <td>1</td>\n",
       "      <td>Cumings, Mrs. John Bradley (Florence Briggs Th...</td>\n",
       "      <td>female</td>\n",
       "      <td>38.0</td>\n",
       "      <td>1</td>\n",
       "      <td>0</td>\n",
       "      <td>PC 17599</td>\n",
       "      <td>71.2833</td>\n",
       "      <td>C85</td>\n",
       "      <td>C</td>\n",
       "    </tr>\n",
       "    <tr>\n",
       "      <th>2</th>\n",
       "      <td>3</td>\n",
       "      <td>1</td>\n",
       "      <td>3</td>\n",
       "      <td>Heikkinen, Miss. Laina</td>\n",
       "      <td>female</td>\n",
       "      <td>26.0</td>\n",
       "      <td>0</td>\n",
       "      <td>0</td>\n",
       "      <td>STON/O2. 3101282</td>\n",
       "      <td>7.9250</td>\n",
       "      <td>NaN</td>\n",
       "      <td>S</td>\n",
       "    </tr>\n",
       "    <tr>\n",
       "      <th>3</th>\n",
       "      <td>4</td>\n",
       "      <td>1</td>\n",
       "      <td>1</td>\n",
       "      <td>Futrelle, Mrs. Jacques Heath (Lily May Peel)</td>\n",
       "      <td>female</td>\n",
       "      <td>35.0</td>\n",
       "      <td>1</td>\n",
       "      <td>0</td>\n",
       "      <td>113803</td>\n",
       "      <td>53.1000</td>\n",
       "      <td>C123</td>\n",
       "      <td>S</td>\n",
       "    </tr>\n",
       "    <tr>\n",
       "      <th>4</th>\n",
       "      <td>5</td>\n",
       "      <td>0</td>\n",
       "      <td>3</td>\n",
       "      <td>Allen, Mr. William Henry</td>\n",
       "      <td>male</td>\n",
       "      <td>35.0</td>\n",
       "      <td>0</td>\n",
       "      <td>0</td>\n",
       "      <td>373450</td>\n",
       "      <td>8.0500</td>\n",
       "      <td>NaN</td>\n",
       "      <td>S</td>\n",
       "    </tr>\n",
       "  </tbody>\n",
       "</table>\n",
       "</div>"
      ],
      "text/plain": [
       "   PassengerId  Survived  Pclass  \\\n",
       "0            1         0       3   \n",
       "1            2         1       1   \n",
       "2            3         1       3   \n",
       "3            4         1       1   \n",
       "4            5         0       3   \n",
       "\n",
       "                                                Name     Sex   Age  SibSp  \\\n",
       "0                            Braund, Mr. Owen Harris    male  22.0      1   \n",
       "1  Cumings, Mrs. John Bradley (Florence Briggs Th...  female  38.0      1   \n",
       "2                             Heikkinen, Miss. Laina  female  26.0      0   \n",
       "3       Futrelle, Mrs. Jacques Heath (Lily May Peel)  female  35.0      1   \n",
       "4                           Allen, Mr. William Henry    male  35.0      0   \n",
       "\n",
       "   Parch            Ticket     Fare Cabin Embarked  \n",
       "0      0         A/5 21171   7.2500   NaN        S  \n",
       "1      0          PC 17599  71.2833   C85        C  \n",
       "2      0  STON/O2. 3101282   7.9250   NaN        S  \n",
       "3      0            113803  53.1000  C123        S  \n",
       "4      0            373450   8.0500   NaN        S  "
      ]
     },
     "execution_count": 2,
     "metadata": {},
     "output_type": "execute_result"
    }
   ],
   "source": [
    "titanic.head(5)"
   ]
  },
  {
   "cell_type": "code",
   "execution_count": 3,
   "id": "39c098f2",
   "metadata": {
    "execution": {
     "iopub.execute_input": "2023-01-24T01:13:17.127994Z",
     "iopub.status.busy": "2023-01-24T01:13:17.127235Z",
     "iopub.status.idle": "2023-01-24T01:13:17.144172Z",
     "shell.execute_reply": "2023-01-24T01:13:17.142998Z"
    },
    "papermill": {
     "duration": 0.026237,
     "end_time": "2023-01-24T01:13:17.146708",
     "exception": false,
     "start_time": "2023-01-24T01:13:17.120471",
     "status": "completed"
    },
    "tags": []
   },
   "outputs": [
    {
     "data": {
      "text/html": [
       "<div>\n",
       "<style scoped>\n",
       "    .dataframe tbody tr th:only-of-type {\n",
       "        vertical-align: middle;\n",
       "    }\n",
       "\n",
       "    .dataframe tbody tr th {\n",
       "        vertical-align: top;\n",
       "    }\n",
       "\n",
       "    .dataframe thead th {\n",
       "        text-align: right;\n",
       "    }\n",
       "</style>\n",
       "<table border=\"1\" class=\"dataframe\">\n",
       "  <thead>\n",
       "    <tr style=\"text-align: right;\">\n",
       "      <th></th>\n",
       "      <th>PassengerId</th>\n",
       "      <th>Pclass</th>\n",
       "      <th>Name</th>\n",
       "      <th>Sex</th>\n",
       "      <th>Age</th>\n",
       "      <th>SibSp</th>\n",
       "      <th>Parch</th>\n",
       "      <th>Ticket</th>\n",
       "      <th>Fare</th>\n",
       "      <th>Cabin</th>\n",
       "      <th>Embarked</th>\n",
       "    </tr>\n",
       "  </thead>\n",
       "  <tbody>\n",
       "    <tr>\n",
       "      <th>0</th>\n",
       "      <td>892</td>\n",
       "      <td>3</td>\n",
       "      <td>Kelly, Mr. James</td>\n",
       "      <td>male</td>\n",
       "      <td>34.5</td>\n",
       "      <td>0</td>\n",
       "      <td>0</td>\n",
       "      <td>330911</td>\n",
       "      <td>7.8292</td>\n",
       "      <td>NaN</td>\n",
       "      <td>Q</td>\n",
       "    </tr>\n",
       "    <tr>\n",
       "      <th>1</th>\n",
       "      <td>893</td>\n",
       "      <td>3</td>\n",
       "      <td>Wilkes, Mrs. James (Ellen Needs)</td>\n",
       "      <td>female</td>\n",
       "      <td>47.0</td>\n",
       "      <td>1</td>\n",
       "      <td>0</td>\n",
       "      <td>363272</td>\n",
       "      <td>7.0000</td>\n",
       "      <td>NaN</td>\n",
       "      <td>S</td>\n",
       "    </tr>\n",
       "    <tr>\n",
       "      <th>2</th>\n",
       "      <td>894</td>\n",
       "      <td>2</td>\n",
       "      <td>Myles, Mr. Thomas Francis</td>\n",
       "      <td>male</td>\n",
       "      <td>62.0</td>\n",
       "      <td>0</td>\n",
       "      <td>0</td>\n",
       "      <td>240276</td>\n",
       "      <td>9.6875</td>\n",
       "      <td>NaN</td>\n",
       "      <td>Q</td>\n",
       "    </tr>\n",
       "    <tr>\n",
       "      <th>3</th>\n",
       "      <td>895</td>\n",
       "      <td>3</td>\n",
       "      <td>Wirz, Mr. Albert</td>\n",
       "      <td>male</td>\n",
       "      <td>27.0</td>\n",
       "      <td>0</td>\n",
       "      <td>0</td>\n",
       "      <td>315154</td>\n",
       "      <td>8.6625</td>\n",
       "      <td>NaN</td>\n",
       "      <td>S</td>\n",
       "    </tr>\n",
       "    <tr>\n",
       "      <th>4</th>\n",
       "      <td>896</td>\n",
       "      <td>3</td>\n",
       "      <td>Hirvonen, Mrs. Alexander (Helga E Lindqvist)</td>\n",
       "      <td>female</td>\n",
       "      <td>22.0</td>\n",
       "      <td>1</td>\n",
       "      <td>1</td>\n",
       "      <td>3101298</td>\n",
       "      <td>12.2875</td>\n",
       "      <td>NaN</td>\n",
       "      <td>S</td>\n",
       "    </tr>\n",
       "  </tbody>\n",
       "</table>\n",
       "</div>"
      ],
      "text/plain": [
       "   PassengerId  Pclass                                          Name     Sex  \\\n",
       "0          892       3                              Kelly, Mr. James    male   \n",
       "1          893       3              Wilkes, Mrs. James (Ellen Needs)  female   \n",
       "2          894       2                     Myles, Mr. Thomas Francis    male   \n",
       "3          895       3                              Wirz, Mr. Albert    male   \n",
       "4          896       3  Hirvonen, Mrs. Alexander (Helga E Lindqvist)  female   \n",
       "\n",
       "    Age  SibSp  Parch   Ticket     Fare Cabin Embarked  \n",
       "0  34.5      0      0   330911   7.8292   NaN        Q  \n",
       "1  47.0      1      0   363272   7.0000   NaN        S  \n",
       "2  62.0      0      0   240276   9.6875   NaN        Q  \n",
       "3  27.0      0      0   315154   8.6625   NaN        S  \n",
       "4  22.0      1      1  3101298  12.2875   NaN        S  "
      ]
     },
     "execution_count": 3,
     "metadata": {},
     "output_type": "execute_result"
    }
   ],
   "source": [
    "titanic_test.head(5)"
   ]
  },
  {
   "cell_type": "markdown",
   "id": "d65e1280",
   "metadata": {
    "papermill": {
     "duration": 0.004737,
     "end_time": "2023-01-24T01:13:17.156775",
     "exception": false,
     "start_time": "2023-01-24T01:13:17.152038",
     "status": "completed"
    },
    "tags": []
   },
   "source": [
    "# Discovering how many missing values are in every column"
   ]
  },
  {
   "cell_type": "code",
   "execution_count": 4,
   "id": "0ac6b018",
   "metadata": {
    "execution": {
     "iopub.execute_input": "2023-01-24T01:13:17.168851Z",
     "iopub.status.busy": "2023-01-24T01:13:17.168105Z",
     "iopub.status.idle": "2023-01-24T01:13:17.177749Z",
     "shell.execute_reply": "2023-01-24T01:13:17.176775Z"
    },
    "papermill": {
     "duration": 0.018259,
     "end_time": "2023-01-24T01:13:17.179999",
     "exception": false,
     "start_time": "2023-01-24T01:13:17.161740",
     "status": "completed"
    },
    "tags": []
   },
   "outputs": [
    {
     "data": {
      "text/plain": [
       "PassengerId      0\n",
       "Survived         0\n",
       "Pclass           0\n",
       "Name             0\n",
       "Sex              0\n",
       "Age            177\n",
       "SibSp            0\n",
       "Parch            0\n",
       "Ticket           0\n",
       "Fare             0\n",
       "Cabin          687\n",
       "Embarked         2\n",
       "dtype: int64"
      ]
     },
     "execution_count": 4,
     "metadata": {},
     "output_type": "execute_result"
    }
   ],
   "source": [
    "titanic.isna().sum()"
   ]
  },
  {
   "cell_type": "code",
   "execution_count": 5,
   "id": "94d8573f",
   "metadata": {
    "execution": {
     "iopub.execute_input": "2023-01-24T01:13:17.192496Z",
     "iopub.status.busy": "2023-01-24T01:13:17.191776Z",
     "iopub.status.idle": "2023-01-24T01:13:17.201419Z",
     "shell.execute_reply": "2023-01-24T01:13:17.200522Z"
    },
    "papermill": {
     "duration": 0.018442,
     "end_time": "2023-01-24T01:13:17.203625",
     "exception": false,
     "start_time": "2023-01-24T01:13:17.185183",
     "status": "completed"
    },
    "tags": []
   },
   "outputs": [
    {
     "data": {
      "text/plain": [
       "PassengerId      0\n",
       "Pclass           0\n",
       "Name             0\n",
       "Sex              0\n",
       "Age             86\n",
       "SibSp            0\n",
       "Parch            0\n",
       "Ticket           0\n",
       "Fare             1\n",
       "Cabin          327\n",
       "Embarked         0\n",
       "dtype: int64"
      ]
     },
     "execution_count": 5,
     "metadata": {},
     "output_type": "execute_result"
    }
   ],
   "source": [
    "titanic_test.isna().sum()"
   ]
  },
  {
   "cell_type": "markdown",
   "id": "9735d308",
   "metadata": {
    "papermill": {
     "duration": 0.005007,
     "end_time": "2023-01-24T01:13:17.213990",
     "exception": false,
     "start_time": "2023-01-24T01:13:17.208983",
     "status": "completed"
    },
    "tags": []
   },
   "source": [
    "# Dropping Useless or problematic features and train test split\n",
    "Dropping cabin because there are too many missing values, and dropping the rows will cause too many of the data to be missing. Dropping the few missing rows on embarked column on training data and fare column on test data."
   ]
  },
  {
   "cell_type": "code",
   "execution_count": 6,
   "id": "9f7cc1e8",
   "metadata": {
    "execution": {
     "iopub.execute_input": "2023-01-24T01:13:17.227231Z",
     "iopub.status.busy": "2023-01-24T01:13:17.226461Z",
     "iopub.status.idle": "2023-01-24T01:13:18.397556Z",
     "shell.execute_reply": "2023-01-24T01:13:18.396502Z"
    },
    "papermill": {
     "duration": 1.180782,
     "end_time": "2023-01-24T01:13:18.400154",
     "exception": false,
     "start_time": "2023-01-24T01:13:17.219372",
     "status": "completed"
    },
    "tags": []
   },
   "outputs": [],
   "source": [
    "from sklearn.model_selection import train_test_split \n",
    "import numpy as np\n",
    "\n",
    "titanic.drop(columns = ['PassengerId', 'Name', 'Ticket', 'Cabin'], inplace=True)\n",
    "titanic = titanic[titanic.Embarked.notna()]\n",
    "\n",
    "tpid = titanic_test.PassengerId\n",
    "titanic_test.drop(columns = ['PassengerId', 'Name', 'Ticket', 'Cabin'], inplace=True)\n",
    "titanic_test.Fare.fillna(titanic_test.Fare.mean(), inplace=True)\n",
    "\n",
    "y = titanic.Survived\n",
    "X = titanic.drop(columns=['Survived'])\n",
    "\n",
    "X_train, X_valid, y_train, y_valid = train_test_split(X, y, train_size=0.7, test_size=0.3, random_state=0)"
   ]
  },
  {
   "cell_type": "code",
   "execution_count": 7,
   "id": "e14b1ccb",
   "metadata": {
    "execution": {
     "iopub.execute_input": "2023-01-24T01:13:18.412754Z",
     "iopub.status.busy": "2023-01-24T01:13:18.411936Z",
     "iopub.status.idle": "2023-01-24T01:13:18.422507Z",
     "shell.execute_reply": "2023-01-24T01:13:18.421364Z"
    },
    "papermill": {
     "duration": 0.019517,
     "end_time": "2023-01-24T01:13:18.425016",
     "exception": false,
     "start_time": "2023-01-24T01:13:18.405499",
     "status": "completed"
    },
    "tags": []
   },
   "outputs": [
    {
     "data": {
      "text/plain": [
       "Pclass       0\n",
       "Sex          0\n",
       "Age         86\n",
       "SibSp        0\n",
       "Parch        0\n",
       "Fare         0\n",
       "Embarked     0\n",
       "dtype: int64"
      ]
     },
     "execution_count": 7,
     "metadata": {},
     "output_type": "execute_result"
    }
   ],
   "source": [
    "titanic_test.isnull().sum()"
   ]
  },
  {
   "cell_type": "markdown",
   "id": "4f94f112",
   "metadata": {
    "papermill": {
     "duration": 0.005274,
     "end_time": "2023-01-24T01:13:18.435796",
     "exception": false,
     "start_time": "2023-01-24T01:13:18.430522",
     "status": "completed"
    },
    "tags": []
   },
   "source": [
    "# Pipeline\n",
    "Using OrdinalEncoder in categorical data and simple imputer for missing values.\n",
    "Random forest classifier will be the model."
   ]
  },
  {
   "cell_type": "code",
   "execution_count": 8,
   "id": "32c90fe3",
   "metadata": {
    "execution": {
     "iopub.execute_input": "2023-01-24T01:13:18.448897Z",
     "iopub.status.busy": "2023-01-24T01:13:18.448115Z",
     "iopub.status.idle": "2023-01-24T01:13:18.678046Z",
     "shell.execute_reply": "2023-01-24T01:13:18.676986Z"
    },
    "papermill": {
     "duration": 0.239551,
     "end_time": "2023-01-24T01:13:18.680753",
     "exception": false,
     "start_time": "2023-01-24T01:13:18.441202",
     "status": "completed"
    },
    "tags": []
   },
   "outputs": [],
   "source": [
    "from sklearn.pipeline import Pipeline\n",
    "from sklearn.compose import ColumnTransformer\n",
    "from sklearn.preprocessing import StandardScaler\n",
    "from sklearn.preprocessing import OrdinalEncoder\n",
    "from sklearn.impute import SimpleImputer\n",
    "from sklearn.ensemble import RandomForestClassifier\n",
    "\n",
    "\n",
    "categorical_cols = ['Embarked', 'Sex']\n",
    "numerical_cols = X_train.drop(columns=['Embarked', 'Sex']).columns"
   ]
  },
  {
   "cell_type": "code",
   "execution_count": 9,
   "id": "28920f8f",
   "metadata": {
    "execution": {
     "iopub.execute_input": "2023-01-24T01:13:18.693514Z",
     "iopub.status.busy": "2023-01-24T01:13:18.693130Z",
     "iopub.status.idle": "2023-01-24T01:13:18.918112Z",
     "shell.execute_reply": "2023-01-24T01:13:18.916733Z"
    },
    "papermill": {
     "duration": 0.234172,
     "end_time": "2023-01-24T01:13:18.920582",
     "exception": false,
     "start_time": "2023-01-24T01:13:18.686410",
     "status": "completed"
    },
    "tags": []
   },
   "outputs": [
    {
     "data": {
      "text/plain": [
       "0.8014981273408239"
      ]
     },
     "execution_count": 9,
     "metadata": {},
     "output_type": "execute_result"
    }
   ],
   "source": [
    "preprocessor = ColumnTransformer([\n",
    "    ('num_cols', StandardScaler(), numerical_cols),\n",
    "    ('cat_cols', OrdinalEncoder(), categorical_cols)\n",
    "    ])\n",
    "\n",
    "pipe_transformer = Pipeline(steps=[\n",
    "    ('preprocessor', preprocessor),\n",
    "    ('imp', SimpleImputer(strategy='mean')),\n",
    "    ('model', RandomForestClassifier(random_state=0))\n",
    "])\n",
    "\n",
    "\n",
    "pipe_transformer.fit(X_train, y_train)\n",
    "pipe_transformer.score(X_valid, y_valid)"
   ]
  },
  {
   "cell_type": "markdown",
   "id": "884a51a7",
   "metadata": {
    "papermill": {
     "duration": 0.005235,
     "end_time": "2023-01-24T01:13:18.931431",
     "exception": false,
     "start_time": "2023-01-24T01:13:18.926196",
     "status": "completed"
    },
    "tags": []
   },
   "source": [
    "Cross Validation to measure modeling quality"
   ]
  },
  {
   "cell_type": "code",
   "execution_count": 10,
   "id": "c2576ad1",
   "metadata": {
    "execution": {
     "iopub.execute_input": "2023-01-24T01:13:18.944042Z",
     "iopub.status.busy": "2023-01-24T01:13:18.943596Z",
     "iopub.status.idle": "2023-01-24T01:13:20.050565Z",
     "shell.execute_reply": "2023-01-24T01:13:20.049459Z"
    },
    "papermill": {
     "duration": 1.11616,
     "end_time": "2023-01-24T01:13:20.053096",
     "exception": false,
     "start_time": "2023-01-24T01:13:18.936936",
     "status": "completed"
    },
    "tags": []
   },
   "outputs": [
    {
     "data": {
      "text/plain": [
       "0.8155652891512727"
      ]
     },
     "execution_count": 10,
     "metadata": {},
     "output_type": "execute_result"
    }
   ],
   "source": [
    "from sklearn.model_selection import cross_val_score\n",
    "\n",
    "score = cross_val_score(pipe_transformer, X, y, cv=5)\n",
    "score.mean()"
   ]
  },
  {
   "cell_type": "markdown",
   "id": "2560185e",
   "metadata": {
    "papermill": {
     "duration": 0.005427,
     "end_time": "2023-01-24T01:13:20.065578",
     "exception": false,
     "start_time": "2023-01-24T01:13:20.060151",
     "status": "completed"
    },
    "tags": []
   },
   "source": [
    "# Predictions"
   ]
  },
  {
   "cell_type": "code",
   "execution_count": 11,
   "id": "11848a62",
   "metadata": {
    "execution": {
     "iopub.execute_input": "2023-01-24T01:13:20.078605Z",
     "iopub.status.busy": "2023-01-24T01:13:20.078162Z",
     "iopub.status.idle": "2023-01-24T01:13:20.115986Z",
     "shell.execute_reply": "2023-01-24T01:13:20.114762Z"
    },
    "papermill": {
     "duration": 0.047752,
     "end_time": "2023-01-24T01:13:20.118977",
     "exception": false,
     "start_time": "2023-01-24T01:13:20.071225",
     "status": "completed"
    },
    "tags": []
   },
   "outputs": [
    {
     "data": {
      "text/plain": [
       "array([0, 0, 0, 0, 0, 0, 0, 0, 1, 0, 0, 0, 1, 0, 1, 1, 0, 1, 0, 0, 0, 1,\n",
       "       1, 1, 1, 0, 1, 1, 1, 0, 0, 0, 0, 0, 1, 1, 0, 0, 0, 0, 0, 0, 0, 1,\n",
       "       1, 0, 1, 0, 1, 1, 1, 0, 1, 1, 0, 0, 0, 0, 0, 1, 0, 0, 0, 1, 1, 1,\n",
       "       1, 0, 0, 1, 1, 0, 0, 0, 1, 0, 0, 1, 0, 1, 1, 0, 0, 0, 0, 0, 1, 1,\n",
       "       1, 1, 0, 0, 1, 0, 1, 0, 1, 0, 1, 0, 1, 0, 0, 0, 0, 0, 1, 0, 0, 0,\n",
       "       0, 1, 1, 1, 1, 0, 0, 1, 0, 1, 1, 0, 1, 0, 0, 1, 0, 1, 0, 0, 0, 0,\n",
       "       0, 0, 0, 0, 0, 0, 0, 0, 0, 1, 0, 0, 1, 0, 0, 0, 0, 0, 1, 0, 0, 1,\n",
       "       0, 0, 1, 1, 1, 1, 1, 1, 1, 0, 0, 0, 0, 0, 1, 0, 0, 0, 0, 0, 0, 1,\n",
       "       1, 1, 1, 1, 0, 0, 1, 0, 1, 0, 1, 0, 0, 0, 0, 0, 1, 0, 1, 0, 1, 1,\n",
       "       0, 0, 1, 1, 0, 1, 0, 0, 1, 0, 1, 0, 0, 0, 0, 0, 0, 0, 1, 0, 1, 0,\n",
       "       1, 0, 1, 0, 0, 0, 0, 1, 0, 0, 0, 1, 0, 0, 1, 0, 0, 1, 1, 1, 0, 1,\n",
       "       0, 0, 0, 0, 1, 0, 1, 0, 1, 0, 1, 0, 0, 0, 0, 0, 1, 0, 0, 0, 1, 1,\n",
       "       0, 0, 0, 0, 0, 0, 0, 0, 1, 1, 0, 1, 0, 0, 0, 0, 0, 1, 1, 0, 1, 0,\n",
       "       0, 0, 0, 0, 0, 1, 0, 0, 0, 0, 1, 0, 0, 0, 0, 0, 0, 0, 1, 1, 0, 1,\n",
       "       0, 0, 0, 1, 0, 1, 1, 1, 0, 0, 0, 0, 0, 0, 0, 1, 1, 0, 1, 0, 0, 0,\n",
       "       1, 1, 0, 1, 0, 0, 0, 0, 0, 0, 0, 0, 0, 1, 0, 1, 0, 0, 0, 1, 1, 0,\n",
       "       0, 0, 1, 0, 1, 0, 0, 1, 0, 1, 1, 0, 1, 0, 0, 0, 1, 0, 0, 1, 0, 0,\n",
       "       1, 1, 0, 0, 0, 0, 0, 0, 1, 0, 1, 1, 0, 0, 1, 0, 0, 1, 0, 0, 0, 1,\n",
       "       0, 1, 0, 0, 1, 0, 1, 0, 0, 0, 0, 0, 1, 1, 1, 1, 0, 0, 1, 0, 0, 1])"
      ]
     },
     "execution_count": 11,
     "metadata": {},
     "output_type": "execute_result"
    }
   ],
   "source": [
    "predictions = pipe_transformer.predict(titanic_test)\n",
    "predictions"
   ]
  },
  {
   "cell_type": "code",
   "execution_count": 12,
   "id": "ba8c4da4",
   "metadata": {
    "execution": {
     "iopub.execute_input": "2023-01-24T01:13:20.132882Z",
     "iopub.status.busy": "2023-01-24T01:13:20.131855Z",
     "iopub.status.idle": "2023-01-24T01:13:20.141518Z",
     "shell.execute_reply": "2023-01-24T01:13:20.140669Z"
    },
    "papermill": {
     "duration": 0.019049,
     "end_time": "2023-01-24T01:13:20.143914",
     "exception": false,
     "start_time": "2023-01-24T01:13:20.124865",
     "status": "completed"
    },
    "tags": []
   },
   "outputs": [],
   "source": [
    "df = pd.DataFrame({'PassengerId': tpid, 'Survived':predictions})\n",
    "df.to_csv('results.csv', index=False)"
   ]
  }
 ],
 "metadata": {
  "kernelspec": {
   "display_name": "Python 3",
   "language": "python",
   "name": "python3"
  },
  "language_info": {
   "codemirror_mode": {
    "name": "ipython",
    "version": 3
   },
   "file_extension": ".py",
   "mimetype": "text/x-python",
   "name": "python",
   "nbconvert_exporter": "python",
   "pygments_lexer": "ipython3",
   "version": "3.7.12"
  },
  "papermill": {
   "default_parameters": {},
   "duration": 13.159666,
   "end_time": "2023-01-24T01:13:20.971929",
   "environment_variables": {},
   "exception": null,
   "input_path": "__notebook__.ipynb",
   "output_path": "__notebook__.ipynb",
   "parameters": {},
   "start_time": "2023-01-24T01:13:07.812263",
   "version": "2.3.4"
  }
 },
 "nbformat": 4,
 "nbformat_minor": 5
}
