{
 "cells": [
  {
   "cell_type": "markdown",
   "id": "cf61956e",
   "metadata": {
    "papermill": {
     "duration": 0.005635,
     "end_time": "2023-01-19T02:19:18.662620",
     "exception": false,
     "start_time": "2023-01-19T02:19:18.656985",
     "status": "completed"
    },
    "tags": []
   },
   "source": [
    "# Loading the data"
   ]
  },
  {
   "cell_type": "code",
   "execution_count": 1,
   "id": "ef4dc648",
   "metadata": {
    "_cell_guid": "b1076dfc-b9ad-4769-8c92-a6c4dae69d19",
    "_uuid": "8f2839f25d086af736a60e9eeb907d3b93b6e0e5",
    "execution": {
     "iopub.execute_input": "2023-01-19T02:19:18.674648Z",
     "iopub.status.busy": "2023-01-19T02:19:18.673541Z",
     "iopub.status.idle": "2023-01-19T02:19:18.710240Z",
     "shell.execute_reply": "2023-01-19T02:19:18.709047Z"
    },
    "papermill": {
     "duration": 0.045883,
     "end_time": "2023-01-19T02:19:18.713202",
     "exception": false,
     "start_time": "2023-01-19T02:19:18.667319",
     "status": "completed"
    },
    "tags": []
   },
   "outputs": [],
   "source": [
    "import pandas as pd\n",
    "\n",
    "titanic =  pd.read_csv('/kaggle/input/titanic/train.csv')\n",
    "titanic_test = pd.read_csv('/kaggle/input/titanic/test.csv')"
   ]
  },
  {
   "cell_type": "code",
   "execution_count": 2,
   "id": "b1147fa8",
   "metadata": {
    "execution": {
     "iopub.execute_input": "2023-01-19T02:19:18.725107Z",
     "iopub.status.busy": "2023-01-19T02:19:18.724137Z",
     "iopub.status.idle": "2023-01-19T02:19:18.750167Z",
     "shell.execute_reply": "2023-01-19T02:19:18.749349Z"
    },
    "papermill": {
     "duration": 0.034176,
     "end_time": "2023-01-19T02:19:18.752410",
     "exception": false,
     "start_time": "2023-01-19T02:19:18.718234",
     "status": "completed"
    },
    "tags": []
   },
   "outputs": [
    {
     "data": {
      "text/html": [
       "<div>\n",
       "<style scoped>\n",
       "    .dataframe tbody tr th:only-of-type {\n",
       "        vertical-align: middle;\n",
       "    }\n",
       "\n",
       "    .dataframe tbody tr th {\n",
       "        vertical-align: top;\n",
       "    }\n",
       "\n",
       "    .dataframe thead th {\n",
       "        text-align: right;\n",
       "    }\n",
       "</style>\n",
       "<table border=\"1\" class=\"dataframe\">\n",
       "  <thead>\n",
       "    <tr style=\"text-align: right;\">\n",
       "      <th></th>\n",
       "      <th>PassengerId</th>\n",
       "      <th>Survived</th>\n",
       "      <th>Pclass</th>\n",
       "      <th>Name</th>\n",
       "      <th>Sex</th>\n",
       "      <th>Age</th>\n",
       "      <th>SibSp</th>\n",
       "      <th>Parch</th>\n",
       "      <th>Ticket</th>\n",
       "      <th>Fare</th>\n",
       "      <th>Cabin</th>\n",
       "      <th>Embarked</th>\n",
       "    </tr>\n",
       "  </thead>\n",
       "  <tbody>\n",
       "    <tr>\n",
       "      <th>0</th>\n",
       "      <td>1</td>\n",
       "      <td>0</td>\n",
       "      <td>3</td>\n",
       "      <td>Braund, Mr. Owen Harris</td>\n",
       "      <td>male</td>\n",
       "      <td>22.0</td>\n",
       "      <td>1</td>\n",
       "      <td>0</td>\n",
       "      <td>A/5 21171</td>\n",
       "      <td>7.2500</td>\n",
       "      <td>NaN</td>\n",
       "      <td>S</td>\n",
       "    </tr>\n",
       "    <tr>\n",
       "      <th>1</th>\n",
       "      <td>2</td>\n",
       "      <td>1</td>\n",
       "      <td>1</td>\n",
       "      <td>Cumings, Mrs. John Bradley (Florence Briggs Th...</td>\n",
       "      <td>female</td>\n",
       "      <td>38.0</td>\n",
       "      <td>1</td>\n",
       "      <td>0</td>\n",
       "      <td>PC 17599</td>\n",
       "      <td>71.2833</td>\n",
       "      <td>C85</td>\n",
       "      <td>C</td>\n",
       "    </tr>\n",
       "    <tr>\n",
       "      <th>2</th>\n",
       "      <td>3</td>\n",
       "      <td>1</td>\n",
       "      <td>3</td>\n",
       "      <td>Heikkinen, Miss. Laina</td>\n",
       "      <td>female</td>\n",
       "      <td>26.0</td>\n",
       "      <td>0</td>\n",
       "      <td>0</td>\n",
       "      <td>STON/O2. 3101282</td>\n",
       "      <td>7.9250</td>\n",
       "      <td>NaN</td>\n",
       "      <td>S</td>\n",
       "    </tr>\n",
       "    <tr>\n",
       "      <th>3</th>\n",
       "      <td>4</td>\n",
       "      <td>1</td>\n",
       "      <td>1</td>\n",
       "      <td>Futrelle, Mrs. Jacques Heath (Lily May Peel)</td>\n",
       "      <td>female</td>\n",
       "      <td>35.0</td>\n",
       "      <td>1</td>\n",
       "      <td>0</td>\n",
       "      <td>113803</td>\n",
       "      <td>53.1000</td>\n",
       "      <td>C123</td>\n",
       "      <td>S</td>\n",
       "    </tr>\n",
       "    <tr>\n",
       "      <th>4</th>\n",
       "      <td>5</td>\n",
       "      <td>0</td>\n",
       "      <td>3</td>\n",
       "      <td>Allen, Mr. William Henry</td>\n",
       "      <td>male</td>\n",
       "      <td>35.0</td>\n",
       "      <td>0</td>\n",
       "      <td>0</td>\n",
       "      <td>373450</td>\n",
       "      <td>8.0500</td>\n",
       "      <td>NaN</td>\n",
       "      <td>S</td>\n",
       "    </tr>\n",
       "  </tbody>\n",
       "</table>\n",
       "</div>"
      ],
      "text/plain": [
       "   PassengerId  Survived  Pclass  \\\n",
       "0            1         0       3   \n",
       "1            2         1       1   \n",
       "2            3         1       3   \n",
       "3            4         1       1   \n",
       "4            5         0       3   \n",
       "\n",
       "                                                Name     Sex   Age  SibSp  \\\n",
       "0                            Braund, Mr. Owen Harris    male  22.0      1   \n",
       "1  Cumings, Mrs. John Bradley (Florence Briggs Th...  female  38.0      1   \n",
       "2                             Heikkinen, Miss. Laina  female  26.0      0   \n",
       "3       Futrelle, Mrs. Jacques Heath (Lily May Peel)  female  35.0      1   \n",
       "4                           Allen, Mr. William Henry    male  35.0      0   \n",
       "\n",
       "   Parch            Ticket     Fare Cabin Embarked  \n",
       "0      0         A/5 21171   7.2500   NaN        S  \n",
       "1      0          PC 17599  71.2833   C85        C  \n",
       "2      0  STON/O2. 3101282   7.9250   NaN        S  \n",
       "3      0            113803  53.1000  C123        S  \n",
       "4      0            373450   8.0500   NaN        S  "
      ]
     },
     "execution_count": 2,
     "metadata": {},
     "output_type": "execute_result"
    }
   ],
   "source": [
    "titanic.head(5)"
   ]
  },
  {
   "cell_type": "code",
   "execution_count": 3,
   "id": "1ef93acb",
   "metadata": {
    "execution": {
     "iopub.execute_input": "2023-01-19T02:19:18.763815Z",
     "iopub.status.busy": "2023-01-19T02:19:18.763400Z",
     "iopub.status.idle": "2023-01-19T02:19:18.779531Z",
     "shell.execute_reply": "2023-01-19T02:19:18.778382Z"
    },
    "papermill": {
     "duration": 0.024808,
     "end_time": "2023-01-19T02:19:18.782051",
     "exception": false,
     "start_time": "2023-01-19T02:19:18.757243",
     "status": "completed"
    },
    "tags": []
   },
   "outputs": [
    {
     "data": {
      "text/html": [
       "<div>\n",
       "<style scoped>\n",
       "    .dataframe tbody tr th:only-of-type {\n",
       "        vertical-align: middle;\n",
       "    }\n",
       "\n",
       "    .dataframe tbody tr th {\n",
       "        vertical-align: top;\n",
       "    }\n",
       "\n",
       "    .dataframe thead th {\n",
       "        text-align: right;\n",
       "    }\n",
       "</style>\n",
       "<table border=\"1\" class=\"dataframe\">\n",
       "  <thead>\n",
       "    <tr style=\"text-align: right;\">\n",
       "      <th></th>\n",
       "      <th>PassengerId</th>\n",
       "      <th>Pclass</th>\n",
       "      <th>Name</th>\n",
       "      <th>Sex</th>\n",
       "      <th>Age</th>\n",
       "      <th>SibSp</th>\n",
       "      <th>Parch</th>\n",
       "      <th>Ticket</th>\n",
       "      <th>Fare</th>\n",
       "      <th>Cabin</th>\n",
       "      <th>Embarked</th>\n",
       "    </tr>\n",
       "  </thead>\n",
       "  <tbody>\n",
       "    <tr>\n",
       "      <th>0</th>\n",
       "      <td>892</td>\n",
       "      <td>3</td>\n",
       "      <td>Kelly, Mr. James</td>\n",
       "      <td>male</td>\n",
       "      <td>34.5</td>\n",
       "      <td>0</td>\n",
       "      <td>0</td>\n",
       "      <td>330911</td>\n",
       "      <td>7.8292</td>\n",
       "      <td>NaN</td>\n",
       "      <td>Q</td>\n",
       "    </tr>\n",
       "    <tr>\n",
       "      <th>1</th>\n",
       "      <td>893</td>\n",
       "      <td>3</td>\n",
       "      <td>Wilkes, Mrs. James (Ellen Needs)</td>\n",
       "      <td>female</td>\n",
       "      <td>47.0</td>\n",
       "      <td>1</td>\n",
       "      <td>0</td>\n",
       "      <td>363272</td>\n",
       "      <td>7.0000</td>\n",
       "      <td>NaN</td>\n",
       "      <td>S</td>\n",
       "    </tr>\n",
       "    <tr>\n",
       "      <th>2</th>\n",
       "      <td>894</td>\n",
       "      <td>2</td>\n",
       "      <td>Myles, Mr. Thomas Francis</td>\n",
       "      <td>male</td>\n",
       "      <td>62.0</td>\n",
       "      <td>0</td>\n",
       "      <td>0</td>\n",
       "      <td>240276</td>\n",
       "      <td>9.6875</td>\n",
       "      <td>NaN</td>\n",
       "      <td>Q</td>\n",
       "    </tr>\n",
       "    <tr>\n",
       "      <th>3</th>\n",
       "      <td>895</td>\n",
       "      <td>3</td>\n",
       "      <td>Wirz, Mr. Albert</td>\n",
       "      <td>male</td>\n",
       "      <td>27.0</td>\n",
       "      <td>0</td>\n",
       "      <td>0</td>\n",
       "      <td>315154</td>\n",
       "      <td>8.6625</td>\n",
       "      <td>NaN</td>\n",
       "      <td>S</td>\n",
       "    </tr>\n",
       "    <tr>\n",
       "      <th>4</th>\n",
       "      <td>896</td>\n",
       "      <td>3</td>\n",
       "      <td>Hirvonen, Mrs. Alexander (Helga E Lindqvist)</td>\n",
       "      <td>female</td>\n",
       "      <td>22.0</td>\n",
       "      <td>1</td>\n",
       "      <td>1</td>\n",
       "      <td>3101298</td>\n",
       "      <td>12.2875</td>\n",
       "      <td>NaN</td>\n",
       "      <td>S</td>\n",
       "    </tr>\n",
       "  </tbody>\n",
       "</table>\n",
       "</div>"
      ],
      "text/plain": [
       "   PassengerId  Pclass                                          Name     Sex  \\\n",
       "0          892       3                              Kelly, Mr. James    male   \n",
       "1          893       3              Wilkes, Mrs. James (Ellen Needs)  female   \n",
       "2          894       2                     Myles, Mr. Thomas Francis    male   \n",
       "3          895       3                              Wirz, Mr. Albert    male   \n",
       "4          896       3  Hirvonen, Mrs. Alexander (Helga E Lindqvist)  female   \n",
       "\n",
       "    Age  SibSp  Parch   Ticket     Fare Cabin Embarked  \n",
       "0  34.5      0      0   330911   7.8292   NaN        Q  \n",
       "1  47.0      1      0   363272   7.0000   NaN        S  \n",
       "2  62.0      0      0   240276   9.6875   NaN        Q  \n",
       "3  27.0      0      0   315154   8.6625   NaN        S  \n",
       "4  22.0      1      1  3101298  12.2875   NaN        S  "
      ]
     },
     "execution_count": 3,
     "metadata": {},
     "output_type": "execute_result"
    }
   ],
   "source": [
    "titanic_test.head(5)"
   ]
  },
  {
   "cell_type": "markdown",
   "id": "413aa665",
   "metadata": {
    "papermill": {
     "duration": 0.004983,
     "end_time": "2023-01-19T02:19:18.792379",
     "exception": false,
     "start_time": "2023-01-19T02:19:18.787396",
     "status": "completed"
    },
    "tags": []
   },
   "source": [
    "# Discovering how many missing values are in every column"
   ]
  },
  {
   "cell_type": "code",
   "execution_count": 4,
   "id": "799e04d8",
   "metadata": {
    "execution": {
     "iopub.execute_input": "2023-01-19T02:19:18.805255Z",
     "iopub.status.busy": "2023-01-19T02:19:18.804571Z",
     "iopub.status.idle": "2023-01-19T02:19:18.814230Z",
     "shell.execute_reply": "2023-01-19T02:19:18.813222Z"
    },
    "papermill": {
     "duration": 0.018836,
     "end_time": "2023-01-19T02:19:18.816306",
     "exception": false,
     "start_time": "2023-01-19T02:19:18.797470",
     "status": "completed"
    },
    "tags": []
   },
   "outputs": [
    {
     "data": {
      "text/plain": [
       "PassengerId      0\n",
       "Survived         0\n",
       "Pclass           0\n",
       "Name             0\n",
       "Sex              0\n",
       "Age            177\n",
       "SibSp            0\n",
       "Parch            0\n",
       "Ticket           0\n",
       "Fare             0\n",
       "Cabin          687\n",
       "Embarked         2\n",
       "dtype: int64"
      ]
     },
     "execution_count": 4,
     "metadata": {},
     "output_type": "execute_result"
    }
   ],
   "source": [
    "titanic.isna().sum()"
   ]
  },
  {
   "cell_type": "code",
   "execution_count": 5,
   "id": "11b74a2c",
   "metadata": {
    "execution": {
     "iopub.execute_input": "2023-01-19T02:19:18.828798Z",
     "iopub.status.busy": "2023-01-19T02:19:18.828069Z",
     "iopub.status.idle": "2023-01-19T02:19:18.837360Z",
     "shell.execute_reply": "2023-01-19T02:19:18.836417Z"
    },
    "papermill": {
     "duration": 0.018133,
     "end_time": "2023-01-19T02:19:18.839570",
     "exception": false,
     "start_time": "2023-01-19T02:19:18.821437",
     "status": "completed"
    },
    "tags": []
   },
   "outputs": [
    {
     "data": {
      "text/plain": [
       "PassengerId      0\n",
       "Pclass           0\n",
       "Name             0\n",
       "Sex              0\n",
       "Age             86\n",
       "SibSp            0\n",
       "Parch            0\n",
       "Ticket           0\n",
       "Fare             1\n",
       "Cabin          327\n",
       "Embarked         0\n",
       "dtype: int64"
      ]
     },
     "execution_count": 5,
     "metadata": {},
     "output_type": "execute_result"
    }
   ],
   "source": [
    "titanic_test.isna().sum()"
   ]
  },
  {
   "cell_type": "markdown",
   "id": "f95a0241",
   "metadata": {
    "papermill": {
     "duration": 0.004961,
     "end_time": "2023-01-19T02:19:18.849878",
     "exception": false,
     "start_time": "2023-01-19T02:19:18.844917",
     "status": "completed"
    },
    "tags": []
   },
   "source": [
    "# Dropping Useless or problematic features and train test split\n",
    "Dropping cabin because there are too many missing values, and dropping the rows will cause too many of the data to be missing. Dropping the few missing rows on embarked column on training data and fare column on test data."
   ]
  },
  {
   "cell_type": "code",
   "execution_count": 6,
   "id": "73b111a5",
   "metadata": {
    "execution": {
     "iopub.execute_input": "2023-01-19T02:19:18.862195Z",
     "iopub.status.busy": "2023-01-19T02:19:18.861822Z",
     "iopub.status.idle": "2023-01-19T02:19:19.976987Z",
     "shell.execute_reply": "2023-01-19T02:19:19.975728Z"
    },
    "papermill": {
     "duration": 1.12561,
     "end_time": "2023-01-19T02:19:19.980867",
     "exception": false,
     "start_time": "2023-01-19T02:19:18.855257",
     "status": "completed"
    },
    "tags": []
   },
   "outputs": [],
   "source": [
    "from sklearn.model_selection import train_test_split \n",
    "import numpy as np\n",
    "\n",
    "titanic.drop(columns = ['PassengerId', 'Name', 'Ticket', 'Cabin'], inplace=True)\n",
    "titanic = titanic[titanic.Embarked.notna()]\n",
    "\n",
    "tpid = titanic_test.PassengerId\n",
    "titanic_test.drop(columns = ['PassengerId', 'Name', 'Ticket', 'Cabin'], inplace=True)\n",
    "titanic_test.Fare.fillna(titanic_test.Fare.mean(), inplace=True)\n",
    "\n",
    "y = titanic.Survived\n",
    "X = titanic.drop(columns=['Survived'])\n",
    "\n",
    "X_train, X_valid, y_train, y_valid = train_test_split(X, y, train_size=0.7, test_size=0.2, random_state=0)"
   ]
  },
  {
   "cell_type": "code",
   "execution_count": 7,
   "id": "1031df2a",
   "metadata": {
    "execution": {
     "iopub.execute_input": "2023-01-19T02:19:19.999360Z",
     "iopub.status.busy": "2023-01-19T02:19:19.998515Z",
     "iopub.status.idle": "2023-01-19T02:19:20.010063Z",
     "shell.execute_reply": "2023-01-19T02:19:20.008553Z"
    },
    "papermill": {
     "duration": 0.024199,
     "end_time": "2023-01-19T02:19:20.013569",
     "exception": false,
     "start_time": "2023-01-19T02:19:19.989370",
     "status": "completed"
    },
    "tags": []
   },
   "outputs": [
    {
     "data": {
      "text/plain": [
       "Pclass       0\n",
       "Sex          0\n",
       "Age         86\n",
       "SibSp        0\n",
       "Parch        0\n",
       "Fare         0\n",
       "Embarked     0\n",
       "dtype: int64"
      ]
     },
     "execution_count": 7,
     "metadata": {},
     "output_type": "execute_result"
    }
   ],
   "source": [
    "titanic_test.isnull().sum()"
   ]
  },
  {
   "cell_type": "markdown",
   "id": "386a5b67",
   "metadata": {
    "papermill": {
     "duration": 0.005619,
     "end_time": "2023-01-19T02:19:20.027662",
     "exception": false,
     "start_time": "2023-01-19T02:19:20.022043",
     "status": "completed"
    },
    "tags": []
   },
   "source": [
    "# Pipeline\n",
    "Using OrdinalEncoder in categorical data and simple imputer for missing values.\n",
    "Random forest classifier will be the model."
   ]
  },
  {
   "cell_type": "code",
   "execution_count": 8,
   "id": "7dd17176",
   "metadata": {
    "execution": {
     "iopub.execute_input": "2023-01-19T02:19:20.041782Z",
     "iopub.status.busy": "2023-01-19T02:19:20.040656Z",
     "iopub.status.idle": "2023-01-19T02:19:20.249386Z",
     "shell.execute_reply": "2023-01-19T02:19:20.248443Z"
    },
    "papermill": {
     "duration": 0.218889,
     "end_time": "2023-01-19T02:19:20.251979",
     "exception": false,
     "start_time": "2023-01-19T02:19:20.033090",
     "status": "completed"
    },
    "tags": []
   },
   "outputs": [],
   "source": [
    "from sklearn.pipeline import Pipeline\n",
    "from sklearn.compose import ColumnTransformer\n",
    "from sklearn.preprocessing import StandardScaler\n",
    "from sklearn.preprocessing import OrdinalEncoder\n",
    "from sklearn.impute import SimpleImputer\n",
    "from sklearn.ensemble import RandomForestClassifier\n",
    "\n",
    "\n",
    "categorical_cols = ['Embarked', 'Sex']\n",
    "numerical_cols = X_train.drop(columns=['Embarked', 'Sex']).columns"
   ]
  },
  {
   "cell_type": "code",
   "execution_count": 9,
   "id": "cefa3bdd",
   "metadata": {
    "execution": {
     "iopub.execute_input": "2023-01-19T02:19:20.265429Z",
     "iopub.status.busy": "2023-01-19T02:19:20.265003Z",
     "iopub.status.idle": "2023-01-19T02:19:20.513714Z",
     "shell.execute_reply": "2023-01-19T02:19:20.512721Z"
    },
    "papermill": {
     "duration": 0.258407,
     "end_time": "2023-01-19T02:19:20.516334",
     "exception": false,
     "start_time": "2023-01-19T02:19:20.257927",
     "status": "completed"
    },
    "tags": []
   },
   "outputs": [
    {
     "data": {
      "text/plain": [
       "0.7584269662921348"
      ]
     },
     "execution_count": 9,
     "metadata": {},
     "output_type": "execute_result"
    }
   ],
   "source": [
    "preprocessor = ColumnTransformer([\n",
    "    ('num_cols', StandardScaler(), numerical_cols),\n",
    "    ('cat_cols', OrdinalEncoder(), categorical_cols)\n",
    "    ])\n",
    "\n",
    "pipe_transformer = Pipeline(steps=[\n",
    "    ('preprocessor', preprocessor),\n",
    "    ('imp', SimpleImputer(strategy='mean')),\n",
    "    ('model', RandomForestClassifier(random_state=0))\n",
    "])\n",
    "\n",
    "\n",
    "pipe_transformer.fit(X_train, y_train)\n",
    "pipe_transformer.score(X_valid, y_valid)"
   ]
  },
  {
   "cell_type": "markdown",
   "id": "e5a1260b",
   "metadata": {
    "papermill": {
     "duration": 0.005415,
     "end_time": "2023-01-19T02:19:20.527591",
     "exception": false,
     "start_time": "2023-01-19T02:19:20.522176",
     "status": "completed"
    },
    "tags": []
   },
   "source": [
    "Cross Validation to measure modeling quality"
   ]
  },
  {
   "cell_type": "code",
   "execution_count": 10,
   "id": "c43c5523",
   "metadata": {
    "execution": {
     "iopub.execute_input": "2023-01-19T02:19:20.540773Z",
     "iopub.status.busy": "2023-01-19T02:19:20.540067Z",
     "iopub.status.idle": "2023-01-19T02:19:21.608098Z",
     "shell.execute_reply": "2023-01-19T02:19:21.606946Z"
    },
    "papermill": {
     "duration": 1.077285,
     "end_time": "2023-01-19T02:19:21.610477",
     "exception": false,
     "start_time": "2023-01-19T02:19:20.533192",
     "status": "completed"
    },
    "tags": []
   },
   "outputs": [
    {
     "data": {
      "text/plain": [
       "0.8155652891512727"
      ]
     },
     "execution_count": 10,
     "metadata": {},
     "output_type": "execute_result"
    }
   ],
   "source": [
    "from sklearn.model_selection import cross_val_score\n",
    "\n",
    "score = cross_val_score(pipe_transformer, X, y, cv=5)\n",
    "score.mean()"
   ]
  },
  {
   "cell_type": "markdown",
   "id": "88eff1b8",
   "metadata": {
    "papermill": {
     "duration": 0.005075,
     "end_time": "2023-01-19T02:19:21.622242",
     "exception": false,
     "start_time": "2023-01-19T02:19:21.617167",
     "status": "completed"
    },
    "tags": []
   },
   "source": [
    "# Predictions"
   ]
  },
  {
   "cell_type": "code",
   "execution_count": 11,
   "id": "b0b0794f",
   "metadata": {
    "execution": {
     "iopub.execute_input": "2023-01-19T02:19:21.634716Z",
     "iopub.status.busy": "2023-01-19T02:19:21.634321Z",
     "iopub.status.idle": "2023-01-19T02:19:21.670223Z",
     "shell.execute_reply": "2023-01-19T02:19:21.669008Z"
    },
    "papermill": {
     "duration": 0.04512,
     "end_time": "2023-01-19T02:19:21.672643",
     "exception": false,
     "start_time": "2023-01-19T02:19:21.627523",
     "status": "completed"
    },
    "tags": []
   },
   "outputs": [
    {
     "data": {
      "text/plain": [
       "array([0, 0, 0, 1, 0, 0, 0, 0, 1, 0, 0, 0, 1, 0, 1, 1, 0, 1, 0, 0, 1, 1,\n",
       "       1, 1, 1, 0, 1, 1, 1, 0, 0, 0, 1, 0, 1, 1, 0, 0, 0, 0, 0, 0, 0, 1,\n",
       "       1, 0, 1, 0, 1, 1, 1, 0, 1, 1, 0, 0, 0, 0, 0, 1, 0, 0, 0, 1, 1, 1,\n",
       "       1, 0, 0, 1, 1, 0, 0, 0, 1, 0, 0, 1, 0, 1, 1, 0, 0, 0, 0, 0, 1, 0,\n",
       "       1, 1, 0, 0, 1, 0, 1, 0, 1, 0, 0, 0, 1, 0, 0, 0, 1, 0, 0, 0, 0, 0,\n",
       "       0, 1, 1, 1, 1, 0, 0, 1, 1, 1, 1, 0, 1, 0, 0, 1, 0, 1, 0, 0, 0, 0,\n",
       "       0, 0, 0, 0, 0, 0, 0, 0, 0, 1, 0, 0, 1, 0, 0, 0, 0, 0, 1, 0, 0, 1,\n",
       "       0, 0, 1, 0, 1, 1, 1, 1, 1, 0, 0, 0, 0, 0, 1, 0, 0, 0, 0, 0, 0, 1,\n",
       "       1, 1, 1, 1, 0, 1, 1, 0, 1, 0, 1, 0, 0, 0, 0, 0, 0, 0, 1, 0, 1, 0,\n",
       "       0, 0, 1, 1, 1, 1, 0, 0, 1, 0, 1, 0, 0, 0, 0, 0, 0, 0, 1, 0, 1, 0,\n",
       "       1, 0, 1, 0, 0, 0, 0, 1, 0, 0, 0, 1, 0, 0, 1, 0, 1, 1, 1, 1, 0, 1,\n",
       "       1, 0, 0, 0, 1, 0, 1, 0, 1, 0, 1, 0, 0, 0, 0, 0, 1, 0, 0, 0, 1, 1,\n",
       "       0, 0, 0, 0, 0, 0, 1, 0, 1, 1, 0, 1, 0, 0, 0, 0, 0, 1, 1, 1, 1, 0,\n",
       "       0, 1, 0, 0, 0, 0, 0, 0, 0, 0, 1, 0, 0, 0, 0, 0, 0, 0, 1, 1, 0, 1,\n",
       "       0, 0, 0, 1, 0, 1, 1, 1, 1, 0, 0, 0, 0, 0, 0, 1, 1, 0, 1, 1, 0, 0,\n",
       "       1, 1, 0, 1, 0, 0, 0, 0, 0, 0, 0, 0, 0, 1, 0, 1, 0, 1, 0, 1, 1, 0,\n",
       "       0, 0, 1, 0, 1, 0, 0, 1, 0, 1, 1, 1, 1, 0, 0, 0, 1, 0, 0, 1, 0, 0,\n",
       "       1, 1, 0, 0, 0, 1, 0, 0, 0, 0, 1, 1, 0, 0, 1, 0, 0, 1, 0, 0, 0, 1,\n",
       "       0, 1, 0, 0, 1, 0, 1, 0, 0, 0, 0, 1, 1, 1, 1, 1, 0, 0, 1, 0, 0, 1])"
      ]
     },
     "execution_count": 11,
     "metadata": {},
     "output_type": "execute_result"
    }
   ],
   "source": [
    "predictions = pipe_transformer.predict(titanic_test)\n",
    "predictions"
   ]
  },
  {
   "cell_type": "code",
   "execution_count": 12,
   "id": "fcdc66c8",
   "metadata": {
    "execution": {
     "iopub.execute_input": "2023-01-19T02:19:21.685734Z",
     "iopub.status.busy": "2023-01-19T02:19:21.685324Z",
     "iopub.status.idle": "2023-01-19T02:19:21.694486Z",
     "shell.execute_reply": "2023-01-19T02:19:21.693173Z"
    },
    "papermill": {
     "duration": 0.01871,
     "end_time": "2023-01-19T02:19:21.697095",
     "exception": false,
     "start_time": "2023-01-19T02:19:21.678385",
     "status": "completed"
    },
    "tags": []
   },
   "outputs": [],
   "source": [
    "df = pd.DataFrame({'PassengerId': tpid, 'Survived':predictions})\n",
    "df.to_csv('results.csv', index=False)"
   ]
  }
 ],
 "metadata": {
  "kernelspec": {
   "display_name": "Python 3",
   "language": "python",
   "name": "python3"
  },
  "language_info": {
   "codemirror_mode": {
    "name": "ipython",
    "version": 3
   },
   "file_extension": ".py",
   "mimetype": "text/x-python",
   "name": "python",
   "nbconvert_exporter": "python",
   "pygments_lexer": "ipython3",
   "version": "3.7.12"
  },
  "papermill": {
   "default_parameters": {},
   "duration": 12.217761,
   "end_time": "2023-01-19T02:19:22.424366",
   "environment_variables": {},
   "exception": null,
   "input_path": "__notebook__.ipynb",
   "output_path": "__notebook__.ipynb",
   "parameters": {},
   "start_time": "2023-01-19T02:19:10.206605",
   "version": "2.3.4"
  }
 },
 "nbformat": 4,
 "nbformat_minor": 5
}
